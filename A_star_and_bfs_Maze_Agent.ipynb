{
  "cells": [
    {
      "cell_type": "markdown",
      "metadata": {
        "id": "iLcwNkSZ18v_"
      },
      "source": [
        "## Today's Agenda is to Solve another interesting problem using Search based Technique"
      ]
    },
    {
      "cell_type": "markdown",
      "metadata": {
        "id": "nX4sahcC18wU"
      },
      "source": [
        "### We will be developing a game based A.I.(not so intelligent) Agent that can search a specific target in a maze like Scenario, Let's get started with code"
      ]
    },
    {
      "cell_type": "code",
      "execution_count": null,
      "metadata": {
        "id": "J7dctRO818wX"
      },
      "outputs": [],
      "source": [
        "import numpy as np\n",
        "import cv2\n",
        "import matplotlib.pyplot as plt\n",
        "import numpy as np\n",
        "import time"
      ]
    },
    {
      "cell_type": "markdown",
      "source": [
        "####Manhattan Distance code "
      ],
      "metadata": {
        "id": "l1LPzXslaLkD"
      }
    },
    {
      "cell_type": "code",
      "source": [
        "def ManhattanDistance():\n",
        "      end=[4,5]\n",
        "      heuristic=0\n",
        "      position=(0,0)\n",
        "      end_pos=end[0]+end[1]\n",
        "      current_pos=position[0]+position[1]\n",
        "      heuristic = heuristic + abs(end_pos-current_pos)\n",
        "      print(heuristic)\n",
        "ManhattanDistance()"
      ],
      "metadata": {
        "colab": {
          "base_uri": "https://localhost:8080/"
        },
        "id": "BXwo956PaJny",
        "outputId": "ba80ed82-17f2-4b97-84ae-ab638cda2db2"
      },
      "execution_count": null,
      "outputs": [
        {
          "output_type": "stream",
          "name": "stdout",
          "text": [
            "9\n"
          ]
        }
      ]
    },
    {
      "cell_type": "markdown",
      "source": [
        "#### Return path /sol"
      ],
      "metadata": {
        "id": "wU9Q19LiJKit"
      }
    },
    {
      "cell_type": "code",
      "execution_count": null,
      "metadata": {
        "id": "ZSTY1aoh18wj"
      },
      "outputs": [],
      "source": [
        "#This function return the path of the search\n",
        "\"we will use the same loop which returns result to count the cost of left right up or down moves\"\n",
        "def return_path(current_node,maze):\n",
        "    path = []\n",
        "    no_rows, no_columns = np.shape(maze)\n",
        "    # here we create the initialized result maze with -1 in every position\n",
        "    result = [[-1 for i in range(no_columns)] for j in range(no_rows)]\n",
        "    current = current_node\n",
        "    while current is not None:\n",
        "        path.append(current.position)\n",
        "        current = current.parent\n",
        "    # Return reversed path as we need to show from start to end path\n",
        "    path = path[::-1]\n",
        "    start_value = 0\n",
        "    result[path[0][0]][path[0][1]] = start_value # starting point has no parent so no move assign cost 0\n",
        "    prevRow=path[0][0] # keeping record if next value in path changes row then move is up or down\n",
        "    prevCol=path[0][1] #keeping record if next value in path changes col then move is left or right\n",
        "    # we will use the path to increment values left and right +2 and up and down +3 so at goal or end we wil have the total cost of moves\n",
        "    for i in range(1,len(path)):\n",
        "        if(path[i][0]>prevRow)or(path[i][0]<prevRow): # row changes add +3 ,U or D\n",
        "          start_value += 3\n",
        "        elif(path[i][1]>prevCol)or(path[i][1]<prevCol): # if col changes move is left or right Add +2\n",
        "          start_value += 2\n",
        "        result[path[i][0]][path[i][1]] = start_value\n",
        "        prevRow=path[i][0]\n",
        "        prevCol=path[i][1]\n",
        "    \n",
        "    return result"
      ]
    },
    {
      "cell_type": "markdown",
      "source": [
        "####BFS Search"
      ],
      "metadata": {
        "id": "XXrsV0ksxmCP"
      }
    },
    {
      "cell_type": "code",
      "source": [
        "from queue import Queue\n",
        "def BfS_search(maze, cost, start, end):\n",
        "    Node.set_num_of_instances_zero()\n",
        "    start_node = Node(None, tuple(start))\n",
        "    end_node = Node(None, tuple(end))\n",
        "    q=Queue()     #whatever we add to queue wil also add to yet to visit list , and what ever we remove from queue will also be removed from yet to visit list\n",
        "    yet_to_visit_list = []  #as queue is not iteratable we need yet_to_visit_list to check if child already exist there with higher g cost or not\n",
        "    visited_list = [] \n",
        "\n",
        "    q.put(start_node)\n",
        "    yet_to_visit_list.append(start_node)\n",
        "\n",
        "    outer_iterations = 0\n",
        "    max_iterations = 100 \n",
        "    move  =  [[-1, 0 ], # go up\n",
        "              [ 0, -1], # go left\n",
        "              [ 1, 0 ], # go down\n",
        "              [ 0, 1 ]] # go right\n",
        "\n",
        "    no_rows, no_columns = np.shape(maze)\n",
        "    \n",
        "    while not(q.empty()):\n",
        "        outer_iterations += 1\n",
        "        current_node=q.get()                    ## get the first added child i.e; FIFO\n",
        "        yet_to_visit_list.remove(current_node)  ##removethe node from yet to visit list which we get from queue as we are going to visit it\n",
        "\n",
        "        if outer_iterations > max_iterations:\n",
        "            print (\"giving up on pathfinding too many iterations\")\n",
        "            return return_path(current_node,maze)\n",
        "\n",
        "        visited_list.append(current_node) \n",
        "        if current_node == end_node:\n",
        "            return return_path(current_node,maze)\n",
        "\n",
        "        # Generate children from all adjacent squares\n",
        "        children = []\n",
        "        for new_position in move: \n",
        "            node_position = (current_node.position[0] + new_position[0], current_node.position[1] + new_position[1])\n",
        "            if (node_position[0] > (no_rows - 1) or \n",
        "                node_position[0] < 0 or \n",
        "                node_position[1] > (no_columns -1) or \n",
        "                node_position[1] < 0):\n",
        "                continue\n",
        "            if maze[node_position[0]][node_position[1]] != 0:\n",
        "                continue\n",
        "            new_node = Node(current_node, node_position)\n",
        "            children.append(new_node)\n",
        "\n",
        "        # Loop through children\n",
        "        for child in children:\n",
        "            if len([visited_child for visited_child in visited_list if visited_child == child]) > 0:\n",
        "                continue\n",
        "            # Child is already in the yet_to_visit list and g cost is already lower\n",
        "            if len([i for i in yet_to_visit_list if child == i and child.g > i.g]) > 0:\n",
        "                continue\n",
        "            q.put(child)    #add children in queue and yet to visit list also\n",
        "            yet_to_visit_list.append(child)"
      ],
      "metadata": {
        "id": "IsVGrIBsxlO2"
      },
      "execution_count": null,
      "outputs": []
    },
    {
      "cell_type": "markdown",
      "source": [
        "####A* search"
      ],
      "metadata": {
        "id": "dUUynilsxfBX"
      }
    },
    {
      "cell_type": "code",
      "execution_count": null,
      "metadata": {
        "id": "8UsHiVFC18wn"
      },
      "outputs": [],
      "source": [
        "def A_star_search(maze, cost, start, end):\n",
        "    Node.set_num_of_instances_zero()\n",
        "    # Create start and end node with initized values for g, h \n",
        "    start_node = Node(None, tuple(start))\n",
        "    start_node.g = 0 # by default g set to zero\n",
        "    end_node = Node(None, tuple(end))\n",
        "    end_node.h = 0 # estimated distance increase as we go away from goal or end\n",
        "\n",
        "    yet_to_visit_list = []  \n",
        "    visited_list = [] \n",
        "\n",
        "    yet_to_visit_list.append(start_node)\n",
        "    outer_iterations = 0\n",
        "    max_iterations = 100 #(len(maze) // 2) ** 10\n",
        "    move  =  [[-1, 0 ], # go up\n",
        "              [ 0, -1], # go left\n",
        "              [ 1, 0 ], # go down\n",
        "              [ 0, 1 ]] # go right\n",
        "\n",
        "    #find maze has got how many rows and columns \n",
        "    no_rows, no_columns = np.shape(maze)\n",
        "    \n",
        "    # Loop until you find the end \n",
        "    while len(yet_to_visit_list) > 0:\n",
        "        outer_iterations += 1    \n",
        "        # Get the current node\n",
        "        current_node = yet_to_visit_list[0]\n",
        "        current_index = 0\n",
        "        for index, item in enumerate(yet_to_visit_list): # we pick the node with lowest heuristic\n",
        "            if item.f < current_node.f:           #if f=g+h total heuristic cost of any item is less than currect selected node then get that node\n",
        "                current_node = item\n",
        "                current_index = index\n",
        "                \n",
        "        if outer_iterations > max_iterations:\n",
        "            print (\"giving up on pathfinding too many iterations\")\n",
        "            return return_path(current_node,maze)\n",
        "\n",
        "        # Pop current node out off yet_to_visit list, add to visited list\n",
        "        yet_to_visit_list.pop(current_index)\n",
        "        visited_list.append(current_node) \n",
        "\n",
        "        # test if goal is reached or not, if yes then return the path\n",
        "        if current_node == end_node:\n",
        "          \n",
        "            return return_path(current_node,maze)\n",
        "\n",
        "        # Generate children from all adjacent squares\n",
        "        children = []\n",
        "        for new_position in move:         \n",
        "            node_position = (current_node.position[0] + new_position[0], current_node.position[1] + new_position[1])\n",
        "            if (node_position[0] > (no_rows - 1) or \n",
        "                node_position[0] < 0 or \n",
        "                node_position[1] > (no_columns -1) or \n",
        "                node_position[1] < 0):\n",
        "                continue\n",
        "            if maze[node_position[0]][node_position[1]] != 0:\n",
        "                continue      \n",
        "            g = current_node.g + 1        # child node which will be created it's g cost will be 1 more than its parent    \n",
        "            new_node = Node(current_node, node_position,g)\n",
        "            children.append(new_node)\n",
        "        # Loop through children\n",
        "        for child in children:            \n",
        "            # Child is on the visited list (search entire visited list)\n",
        "            if len([visited_child for visited_child in visited_list if visited_child == child]) > 0:\n",
        "                continue\n",
        "\n",
        "            # Create the f, g, and h values\n",
        "            #child.g = current_node.g + 1\n",
        "            ## Heuristic costs calculated here, this is using eucledian distance\n",
        "            #child.h = (((child.position[0] - end_node.position[0]) ** 2) + \n",
        "            #           ((child.position[1] - end_node.position[1]) ** 2))  \n",
        "            #child.f = child.g + child.h\n",
        "\n",
        "\n",
        "            # Child is already in the yet_to_visit list and g cost is already lower\n",
        "            if len([i for i in yet_to_visit_list if child == i and child.g > i.g]) > 0:\n",
        "                continue\n",
        "            # Add the child to the yet_to_visit list\n",
        "            yet_to_visit_list.append(child)\n",
        "\n",
        "  ##### we don't need the below code beacause when we pick a node from yet to visit we compare it with all other nodes and replace it with lowest heuristic value\n",
        "\n",
        "        # for i in range(len(yet_to_visit_list)): #sorting chidrean list so next time we pick the first value from the list which should be the lowest heuristic\n",
        "        #   for j in range(i,len(yet_to_visit_list)):\n",
        "        #     if yet_to_visit_list[i].f > yet_to_visit_list[j].f: # arranging in ascending order\n",
        "        #       temp  = yet_to_visit_list[i]\n",
        "        #       yet_to_visit_list[i] = yet_to_visit_list[j]\n",
        "        #       yet_to_visit_list[j] = temp\n",
        "         "
      ]
    },
    {
      "cell_type": "markdown",
      "source": [
        "####Main and class node"
      ],
      "metadata": {
        "id": "QNMJsoX_JTpK"
      }
    },
    {
      "cell_type": "code",
      "execution_count": null,
      "metadata": {
        "id": "NYVDlvsv18wy",
        "outputId": "b9512c9c-7dc9-4659-ffbd-f817ae9f2345",
        "colab": {
          "base_uri": "https://localhost:8080/"
        }
      },
      "outputs": [
        {
          "output_type": "stream",
          "name": "stdout",
          "text": [
            "--------------A* Search----------- \n",
            "Resested Number of Instances to zero\n",
            "Space(class variable) : 63\n",
            "Time:  0.0006711483001708984\n",
            "Total Cost of L=R=2,U=D=3 is:  34\n",
            "  0 -1 -1 -1 -1 -1\n",
            "  3 -1 -1 -1 -1 -1\n",
            "  6 -1 -1 24 26 28\n",
            "  9 -1 -1 21 -1 31\n",
            " 12 14 16 18 -1 34\n",
            "\n",
            "--------------Breadth First Search--------\n",
            "Resested Number of Instances to zero\n",
            "Space(class variable): 179\n",
            "Time:  0.0014407634735107422\n",
            "Total Cost of L=R=2,U=D=3 is:  34\n",
            "  0 -1 -1 -1 -1 -1\n",
            "  3 -1 -1 -1 -1 -1\n",
            "  6 -1 22 24 26 28\n",
            "  9 -1 19 -1 -1 31\n",
            " 12 14 16 -1 -1 34\n",
            "\n"
          ]
        }
      ],
      "source": [
        "class Node:\n",
        "    num_of_instances=0\n",
        "    end=[4,5]\n",
        "    def __init__(self, parent=None, position=None,g=0):\n",
        "        self.parent = parent\n",
        "        self.position = position\n",
        "        self.g = g #number of steps\n",
        "        self.ManhattanDistance() # estimate heuristic-> self.h\n",
        "        self.f = self.g + self.h\n",
        "        Node.num_of_instances+=1\n",
        "    def set_num_of_instances_zero():\n",
        "        num_of_instances=0\n",
        "        print(\"Resested Number of Instances to zero\")\n",
        "    def ManhattanDistance(self):\n",
        "      self.h=0\n",
        "      end_pos=self.end[0]+self.end[1]\n",
        "      current_pos=self.position[0]+self.position[1]\n",
        "      self.h =self.h + abs(end_pos-current_pos)\n",
        "        \n",
        "    \n",
        "    def __eq__(self, other):    # a == b\n",
        "        return self.position == other.position\n",
        "\n",
        "\n",
        "if __name__ == '__main__':\n",
        "    # maze=[  [0, 0, 0, 1, 0, 1],\n",
        "    #         [0, 1, 0, 0, 1, 0],\n",
        "    #         [0, 1, 0, 0, 0, 0],\n",
        "    #         [0, 0, 1, 0, 1, 0],\n",
        "    #         [1, 0, 0, 0, 1, 0]]\n",
        "    maze = [[0, 1, 0, 0, 0, 0],\n",
        "            [0, 1, 0, 1, 0, 0],\n",
        "            [0, 1, 0, 0, 0, 0],\n",
        "            [0, 1, 0, 0, 1, 0],\n",
        "            [0, 0, 0, 0, 1, 0]]\n",
        "\n",
        "    r,c = np.shape(maze)\n",
        "    start = [0, 0] # starting position\n",
        "    end = [4,5] # ending position\n",
        "    cost = 1 # cost per movement\n",
        "    \n",
        "    print(\"--------------A* Search----------- \")\n",
        "    t=time.time()\n",
        "    path = A_star_search(maze,cost, start, end)\n",
        "    t1=time.time()-t\n",
        "    print(\"Space(class variable) :\",Node.num_of_instances)\n",
        "    print(\"Time: \",t1)\n",
        "    print(\"Total Cost of L=R=2,U=D=3 is: \",str(path[r-1][c-1]))\n",
        "    print('\\n'.join([''.join([\"{:\" \">3d}\".format(item) for item in row]) for row in path]))\n",
        "    print(\"\")\n",
        "   \n",
        "     #BFS\n",
        "    print(\"--------------Breadth First Search--------\")\n",
        "    t=time.time()\n",
        "    path2 = BfS_search(maze,cost, start, end)\n",
        "    t1=time.time()-t\n",
        "    print(\"Space(class variable):\",Node.num_of_instances)\n",
        "    print(\"Time: \",t1)\n",
        "    print(\"Total Cost of L=R=2,U=D=3 is: \",str(path2[r-1][c-1]))\n",
        "    print('\\n'.join([''.join([\"{:\" \">3d}\".format(item) for item in row]) for row in path2]))\n",
        "    print(\"\")\n",
        "\n",
        "\n",
        "    \n",
        "    \n",
        "    "
      ]
    },
    {
      "cell_type": "code",
      "execution_count": null,
      "metadata": {
        "id": "rv3MosSh18w2",
        "outputId": "a5c40a60-a9b2-47c8-f37c-6e02e0c865c4",
        "colab": {
          "base_uri": "https://localhost:8080/"
        }
      },
      "outputs": [
        {
          "output_type": "stream",
          "name": "stdout",
          "text": [
            "  0 -1 -1 -1 -1 -1\n",
            "  3 -1 -1 -1 -1 -1\n",
            "  6 -1 -1 24 26 28\n",
            "  9 -1 -1 21 -1 31\n",
            " 12 14 16 18 -1 34\n"
          ]
        }
      ],
      "source": [
        "print('\\n'.join([''.join([\"{:\" \">3d}\".format(item) for item in row]) for row in path]))"
      ]
    },
    {
      "cell_type": "code",
      "execution_count": null,
      "metadata": {
        "id": "dDGAq4d318w9"
      },
      "outputs": [],
      "source": [
        ""
      ]
    },
    {
      "cell_type": "code",
      "execution_count": null,
      "metadata": {
        "id": "Q9FfnbYQ18xA"
      },
      "outputs": [],
      "source": [
        ""
      ]
    }
  ],
  "metadata": {
    "kernelspec": {
      "display_name": "Python 3",
      "language": "python",
      "name": "python3"
    },
    "language_info": {
      "codemirror_mode": {
        "name": "ipython",
        "version": 3
      },
      "file_extension": ".py",
      "mimetype": "text/x-python",
      "name": "python",
      "nbconvert_exporter": "python",
      "pygments_lexer": "ipython3",
      "version": "3.7.6"
    },
    "colab": {
      "name": "A_star and bfs Maze Agent.ipynb",
      "provenance": [],
      "collapsed_sections": []
    }
  },
  "nbformat": 4,
  "nbformat_minor": 0
}